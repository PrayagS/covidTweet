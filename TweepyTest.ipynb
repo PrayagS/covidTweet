{
 "cells": [
  {
   "cell_type": "code",
   "execution_count": 1,
   "metadata": {
    "init_cell": true
   },
   "outputs": [],
   "source": [
    "import tweepy\n",
    "from decouple import config"
   ]
  },
  {
   "cell_type": "markdown",
   "metadata": {},
   "source": [
    "## Setup API Authentication"
   ]
  },
  {
   "cell_type": "code",
   "execution_count": 2,
   "metadata": {
    "init_cell": true
   },
   "outputs": [],
   "source": [
    "auth = tweepy.OAuthHandler(config('CONSUMER_KEY'), config('CONSUMER_SECRET'))\n",
    "api = tweepy.API(auth)"
   ]
  },
  {
   "cell_type": "markdown",
   "metadata": {},
   "source": [
    "## Search without any parameters"
   ]
  },
  {
   "cell_type": "code",
   "execution_count": null,
   "metadata": {},
   "outputs": [],
   "source": [
    "for tweet in tweepy.Cursor(api.search, q='Google').items(1):\n",
    "    print(tweet)"
   ]
  },
  {
   "cell_type": "markdown",
   "metadata": {},
   "source": [
    "## Fields returned in response"
   ]
  },
  {
   "cell_type": "code",
   "execution_count": 7,
   "metadata": {},
   "outputs": [
    {
     "name": "stdout",
     "output_type": "stream",
     "text": [
      "created_at : Thu Mar 19 18:07:27 +0000 2020\n",
      "id : 1240701431927037952\n",
      "id_str : 1240701431927037952\n",
      "text : sedikit drama nyasar bikin gw muter2 di sekitaran nganjuk dan mutusin buat tanya orang sana buat ke kecamatan pagu.… https://t.co/6cONgCLOGp\n",
      "truncated : True\n",
      "entities : {'hashtags': [], 'symbols': [], 'user_mentions': [], 'urls': [{'url': 'https://t.co/6cONgCLOGp', 'expanded_url': 'https://twitter.com/i/web/status/1240701431927037952', 'display_url': 'twitter.com/i/web/status/1…', 'indices': [117, 140]}]}\n",
      "metadata : {'iso_language_code': 'in', 'result_type': 'recent'}\n",
      "source : <a href=\"https://mobile.twitter.com\" rel=\"nofollow\">Twitter Web App</a>\n",
      "in_reply_to_status_id : 1240700900823281671\n",
      "in_reply_to_status_id_str : 1240700900823281671\n",
      "in_reply_to_user_id : 94311157\n",
      "in_reply_to_user_id_str : 94311157\n",
      "in_reply_to_screen_name : azzzz16\n",
      "user : {'id': 94311157, 'id_str': '94311157', 'name': 'Azzam', 'screen_name': 'azzzz16', 'location': 'Kediri, Jawa Timur', 'description': 'https://t.co/nshmdTokhq', 'url': None, 'entities': {'description': {'urls': [{'url': 'https://t.co/nshmdTokhq', 'expanded_url': 'https://open.spotify.com/playlist/4mqdTT8HxcfAHYpuu0yFSe?si=hK28-jneTyWXgDW3k0bpVQ', 'display_url': 'open.spotify.com/playlist/4mqdT…', 'indices': [0, 23]}]}}, 'protected': False, 'followers_count': 327, 'friends_count': 120, 'listed_count': 0, 'created_at': 'Thu Dec 03 11:40:26 +0000 2009', 'favourites_count': 147, 'utc_offset': None, 'time_zone': None, 'geo_enabled': True, 'verified': False, 'statuses_count': 6721, 'lang': None, 'contributors_enabled': False, 'is_translator': False, 'is_translation_enabled': False, 'profile_background_color': '080508', 'profile_background_image_url': 'http://abs.twimg.com/images/themes/theme5/bg.gif', 'profile_background_image_url_https': 'https://abs.twimg.com/images/themes/theme5/bg.gif', 'profile_background_tile': True, 'profile_image_url': 'http://pbs.twimg.com/profile_images/1207828897498222592/rb0M6w5Z_normal.jpg', 'profile_image_url_https': 'https://pbs.twimg.com/profile_images/1207828897498222592/rb0M6w5Z_normal.jpg', 'profile_banner_url': 'https://pbs.twimg.com/profile_banners/94311157/1569438284', 'profile_link_color': 'FAB81E', 'profile_sidebar_border_color': '000000', 'profile_sidebar_fill_color': 'D274DB', 'profile_text_color': '15B9EB', 'profile_use_background_image': True, 'has_extended_profile': False, 'default_profile': False, 'default_profile_image': False, 'following': None, 'follow_request_sent': None, 'notifications': None, 'translator_type': 'none'}\n",
      "geo : None\n",
      "coordinates : None\n",
      "place : None\n",
      "contributors : None\n",
      "is_quote_status : False\n",
      "retweet_count : 0\n",
      "favorite_count : 0\n",
      "favorited : False\n",
      "retweeted : False\n",
      "lang : in\n"
     ]
    }
   ],
   "source": [
    "for tweet in tweepy.Cursor(api.search, q='Google').items(1):\n",
    "    json_dict = tweet._json\n",
    "    for key in json_dict.keys():\n",
    "        print(key, \":\", json_dict[str(key)])"
   ]
  },
  {
   "cell_type": "markdown",
   "metadata": {},
   "source": [
    "## GET trends/place"
   ]
  },
  {
   "cell_type": "markdown",
   "metadata": {},
   "source": [
    "- ### Retrieve WOEID"
   ]
  },
  {
   "cell_type": "code",
   "execution_count": 12,
   "metadata": {},
   "outputs": [
    {
     "name": "stdout",
     "output_type": "stream",
     "text": [
      "{'name': 'Ahmedabad', 'placeType': {'code': 7, 'name': 'Town'}, 'url': 'http://where.yahooapis.com/v1/place/2295402', 'parentid': 23424848, 'country': 'India', 'woeid': 2295402, 'countryCode': 'IN'}\n",
      "WOEID = 2295402\n"
     ]
    }
   ],
   "source": [
    "AHD_LAT = 23.022505\n",
    "AHD_LONG = 72.571365\n",
    "\n",
    "# Returns a single element list\n",
    "ahd_loc_info = api.trends_closest(AHD_LAT, AHD_LONG)\n",
    "print(ahd_loc_info[0])\n",
    "ahd_woeid = ahd_loc_info[0]['woeid']  # Single element is a dict\n",
    "print('WOEID =',ahd_woeid)"
   ]
  },
  {
   "cell_type": "markdown",
   "metadata": {},
   "source": [
    "- ### Retrieve trends given the WOEID"
   ]
  },
  {
   "cell_type": "code",
   "execution_count": 14,
   "metadata": {},
   "outputs": [
    {
     "name": "stdout",
     "output_type": "stream",
     "text": [
      "#JantaCurfew\n",
      "#Miracles_Of_TrueWorship\n",
      "#NarendraModi\n",
      "#जनता_कर्फ्यू\n",
      "#मोदीजी_बकवास_बंद_करो\n",
      "Prime Minister\n",
      "Thali\n",
      "Shehla\n",
      "resolve and restraint\n",
      "Balcony\n",
      "Trial\n",
      "Tehseen\n",
      "Sankalp\n",
      "Ghanti\n",
      "Task Force\n",
      "#BhulaDungaOnMarch24\n",
      "#AskRobbo\n",
      "#StopBhashanShowAction\n",
      "#modistrikeoncorona\n",
      "#ModiJi_Thankyou\n",
      "#IndiaComeTogether\n",
      "#22march\n",
      "#5YearsWithRMixtape\n",
      "#ControlTomorrow\n",
      "#LibtardsKillNirbhayas\n",
      "#curfew\n",
      "#TwoYearsOfBepannaah\n",
      "#PersonaNo3GlobalAlbum\n",
      "#LockDownMumbaiPune\n",
      "#ModiAddressesNation\n",
      "#LoveYouMoreLay\n",
      "#SUHOARCHIVE20\n",
      "#AskJinks\n",
      "#TVSEuroGrip\n",
      "#askppfas\n",
      "#GiveBackKHKT\n"
     ]
    }
   ],
   "source": [
    "ahd_trends = api.trends_place(id=str(ahd_woeid)) # Returns a single element list\n",
    "ahd_trends = ahd_trends[0]['trends']  # Retrieve only the trends\n",
    "for trend in ahd_trends:\n",
    "    print(trend['name'])"
   ]
  },
  {
   "cell_type": "markdown",
   "metadata": {},
   "source": [
    "## Filter search results by location"
   ]
  },
  {
   "cell_type": "code",
   "execution_count": 6,
   "metadata": {},
   "outputs": [
    {
     "name": "stdout",
     "output_type": "stream",
     "text": [
      "#corona #gocorona #coronavirusoutbreak⚠️ #coronaindia #quarantine #quarantineandchill #kannada #chummatalks… https://t.co/Qlfffdxfrj\n",
      "[{'text': 'corona', 'indices': [0, 7]}, {'text': 'gocorona', 'indices': [8, 17]}, {'text': 'coronavirusoutbreak', 'indices': [18, 38]}, {'text': 'coronaindia', 'indices': [41, 53]}, {'text': 'quarantine', 'indices': [54, 65]}, {'text': 'quarantineandchill', 'indices': [66, 85]}, {'text': 'kannada', 'indices': [86, 94]}, {'text': 'chummatalks', 'indices': [95, 107]}]\n",
      "Bengaluru \n",
      "\n",
      "Let's all break the chain with Janata Curfew on tomorrow. Watch this video of Dr. Rishika its_all_about_being_passi… https://t.co/n9wGp24Vhi\n",
      "[]\n",
      "Bengaluru \n",
      "\n",
      "Tech pro. Haunted through #corona #shotoniphone \n",
      ".\n",
      ".\n",
      "#it #bangalore #governmentshutdown #2020 #history… https://t.co/MPVKO2FoZa\n",
      "[{'text': 'corona', 'indices': [26, 33]}, {'text': 'shotoniphone', 'indices': [34, 47]}, {'text': 'it', 'indices': [53, 56]}, {'text': 'bangalore', 'indices': [57, 67]}, {'text': 'governmentshutdown', 'indices': [68, 87]}, {'text': 'history', 'indices': [94, 102]}]\n",
      "Bengaluru \n",
      "\n",
      "#covid #covid_19 #corona #covıd19 #covidmemes #covidmeme #janatacurfew #janatacurfewindia #janatacurfewday… https://t.co/byFoMnOK5D\n",
      "[{'text': 'covid', 'indices': [0, 6]}, {'text': 'covid_19', 'indices': [7, 16]}, {'text': 'corona', 'indices': [17, 24]}, {'text': 'covıd19', 'indices': [25, 33]}, {'text': 'covidmemes', 'indices': [34, 45]}, {'text': 'covidmeme', 'indices': [46, 56]}, {'text': 'janatacurfew', 'indices': [57, 70]}, {'text': 'janatacurfewindia', 'indices': [71, 89]}, {'text': 'janatacurfewday', 'indices': [90, 106]}]\n",
      "Bengaluru \n",
      "\n",
      "#corona #gocorona #coronavirusoutbreak⚠️ #coronaindia #quarantine #quarantineandchill #kannada #chummatalks… https://t.co/g39c3G1fu2\n",
      "[{'text': 'corona', 'indices': [0, 7]}, {'text': 'gocorona', 'indices': [8, 17]}, {'text': 'coronavirusoutbreak', 'indices': [18, 38]}, {'text': 'coronaindia', 'indices': [41, 53]}, {'text': 'quarantine', 'indices': [54, 65]}, {'text': 'quarantineandchill', 'indices': [66, 85]}, {'text': 'kannada', 'indices': [86, 94]}, {'text': 'chummatalks', 'indices': [95, 107]}]\n",
      "Bengaluru \n",
      "\n",
      "#corona #gocorona #coronavirusoutbreak⚠️ #coronaindia #quarantine #quarantineandchill #kannada #chummatalks… https://t.co/vaag11oXOq\n",
      "[{'text': 'corona', 'indices': [0, 7]}, {'text': 'gocorona', 'indices': [8, 17]}, {'text': 'coronavirusoutbreak', 'indices': [18, 38]}, {'text': 'coronaindia', 'indices': [41, 53]}, {'text': 'quarantine', 'indices': [54, 65]}, {'text': 'quarantineandchill', 'indices': [66, 85]}, {'text': 'kannada', 'indices': [86, 94]}, {'text': 'chummatalks', 'indices': [95, 107]}]\n",
      "Bengaluru \n",
      "\n",
      "#jantacurfew2020\n",
      "@narendramodi\n",
      "#corona\n",
      "#covid_19\n",
      "#safetyfirst\n",
      "#fightagainstcorona\n",
      "#modioncovid19outbreak\n",
      "#modi… https://t.co/v1hLrOIreJ\n",
      "[{'text': 'jantacurfew2020', 'indices': [0, 16]}, {'text': 'corona', 'indices': [31, 38]}, {'text': 'covid_19', 'indices': [39, 48]}, {'text': 'safetyfirst', 'indices': [49, 61]}, {'text': 'fightagainstcorona', 'indices': [62, 81]}, {'text': 'modioncovid19outbreak', 'indices': [82, 104]}, {'text': 'modi', 'indices': [105, 110]}]\n",
      "Bengaluru \n",
      "\n",
      "Working from home in the time of Corona.\n",
      "\n",
      "#workingfromhome #workfromhome #workinthetimeofcorona #work… https://t.co/q2gu0Uay19\n",
      "[{'text': 'workingfromhome', 'indices': [42, 58]}, {'text': 'workfromhome', 'indices': [59, 72]}, {'text': 'workinthetimeofcorona', 'indices': [73, 95]}, {'text': 'work', 'indices': [96, 101]}]\n",
      "Bengaluru \n",
      "\n",
      "Drugs and Narcotic substances are traded freely but trying to block #corona #covid @ Bangalore, India https://t.co/6THf7qB4Nu\n",
      "[{'text': 'corona', 'indices': [68, 75]}, {'text': 'covid', 'indices': [76, 82]}]\n",
      "Bengaluru \n",
      "\n",
      "Coffee ,contemplation and definitely no corona!!                                            P.c raginisingh.789 @ B… https://t.co/gJdjyeDoym\n",
      "[]\n",
      "Bengaluru \n",
      "\n"
     ]
    }
   ],
   "source": [
    "SF_LAT = 37.781157\n",
    "SF_LONG = -122.398720\n",
    "\n",
    "NY_LAT = 40.712776\n",
    "NY_LONG = -74.005974\n",
    "\n",
    "BENG_LAT = 12.971599\n",
    "BENG_LONG = 77.594566\n",
    "\n",
    "# May not work for Gujarati cities. Not enough people posting with location info\n",
    "\n",
    "geocode = str(BENG_LAT) + ',' + str(BENG_LONG) + ',1mi'\n",
    "\n",
    "for tweet in tweepy.Cursor(api.search, q='Corona', geocode=geocode).items(10):\n",
    "    json_dict = tweet._json\n",
    "    print(json_dict['text'])\n",
    "    print(json_dict['entities']['hashtags'])\n",
    "    try:\n",
    "        print(json_dict['place']['name'], '\\n')\n",
    "    except TypeError:\n",
    "        print('No Location\\n')"
   ]
  },
  {
   "cell_type": "markdown",
   "metadata": {},
   "source": [
    "## Check objects returned in Tweepy classes"
   ]
  },
  {
   "cell_type": "code",
   "execution_count": 3,
   "metadata": {},
   "outputs": [
    {
     "name": "stdout",
     "output_type": "stream",
     "text": [
      "_api : <tweepy.api.API object at 0x7fae7c0bdf40>\n",
      "_json : {'created_at': 'Sat Mar 21 08:42:47 +0000 2020', 'id': 1241284107117694981, 'id_str': '1241284107117694981', 'text': 'RT @rssurjewala: How Ex CJI Ranjan Gogoi’s nomination to Rajya Sabha “crosses the line of separation”?\\n\\nMy Op-Ed in Indian Express today-:…', 'truncated': False, 'entities': {'hashtags': [], 'symbols': [], 'user_mentions': [{'screen_name': 'rssurjewala', 'name': 'Randeep Singh Surjewala', 'id': 3066787711, 'id_str': '3066787711', 'indices': [3, 15]}], 'urls': []}, 'metadata': {'iso_language_code': 'en', 'result_type': 'recent'}, 'source': '<a href=\"http://twitter.com/download/android\" rel=\"nofollow\">Twitter for Android</a>', 'in_reply_to_status_id': None, 'in_reply_to_status_id_str': None, 'in_reply_to_user_id': None, 'in_reply_to_user_id_str': None, 'in_reply_to_screen_name': None, 'user': {'id': 1025431149265530881, 'id_str': '1025431149265530881', 'name': 'Dushyant Kumar Gupta', 'screen_name': 'DushyantKumarG9', 'location': '', 'description': '', 'url': None, 'entities': {'description': {'urls': []}}, 'protected': False, 'followers_count': 281, 'friends_count': 1514, 'listed_count': 0, 'created_at': 'Fri Aug 03 17:20:12 +0000 2018', 'favourites_count': 19610, 'utc_offset': None, 'time_zone': None, 'geo_enabled': False, 'verified': False, 'statuses_count': 9468, 'lang': None, 'contributors_enabled': False, 'is_translator': False, 'is_translation_enabled': False, 'profile_background_color': 'F5F8FA', 'profile_background_image_url': None, 'profile_background_image_url_https': None, 'profile_background_tile': False, 'profile_image_url': 'http://abs.twimg.com/sticky/default_profile_images/default_profile_normal.png', 'profile_image_url_https': 'https://abs.twimg.com/sticky/default_profile_images/default_profile_normal.png', 'profile_link_color': '1DA1F2', 'profile_sidebar_border_color': 'C0DEED', 'profile_sidebar_fill_color': 'DDEEF6', 'profile_text_color': '333333', 'profile_use_background_image': True, 'has_extended_profile': True, 'default_profile': True, 'default_profile_image': True, 'following': None, 'follow_request_sent': None, 'notifications': None, 'translator_type': 'none'}, 'geo': None, 'coordinates': None, 'place': None, 'contributors': None, 'retweeted_status': {'created_at': 'Fri Mar 20 04:13:56 +0000 2020', 'id': 1240854060409868289, 'id_str': '1240854060409868289', 'text': 'How Ex CJI Ranjan Gogoi’s nomination to Rajya Sabha “crosses the line of separation”?\\n\\nMy Op-Ed in Indian Express t… https://t.co/BH9KeVg8yG', 'truncated': True, 'entities': {'hashtags': [], 'symbols': [], 'user_mentions': [], 'urls': [{'url': 'https://t.co/BH9KeVg8yG', 'expanded_url': 'https://twitter.com/i/web/status/1240854060409868289', 'display_url': 'twitter.com/i/web/status/1…', 'indices': [117, 140]}]}, 'metadata': {'iso_language_code': 'en', 'result_type': 'recent'}, 'source': '<a href=\"http://twitter.com/download/iphone\" rel=\"nofollow\">Twitter for iPhone</a>', 'in_reply_to_status_id': None, 'in_reply_to_status_id_str': None, 'in_reply_to_user_id': None, 'in_reply_to_user_id_str': None, 'in_reply_to_screen_name': None, 'user': {'id': 3066787711, 'id_str': '3066787711', 'name': 'Randeep Singh Surjewala', 'screen_name': 'rssurjewala', 'location': '', 'description': 'Permanent Invitee Member, Congress Working Committee.', 'url': 'https://t.co/9aKrtjMDmn', 'entities': {'url': {'urls': [{'url': 'https://t.co/9aKrtjMDmn', 'expanded_url': 'http://www.surjewala.in/', 'display_url': 'surjewala.in', 'indices': [0, 23]}]}, 'description': {'urls': []}}, 'protected': False, 'followers_count': 1136696, 'friends_count': 126, 'listed_count': 509, 'created_at': 'Sat Mar 07 14:44:38 +0000 2015', 'favourites_count': 1429, 'utc_offset': None, 'time_zone': None, 'geo_enabled': True, 'verified': True, 'statuses_count': 8594, 'lang': None, 'contributors_enabled': False, 'is_translator': False, 'is_translation_enabled': False, 'profile_background_color': 'C0DEED', 'profile_background_image_url': 'http://abs.twimg.com/images/themes/theme1/bg.png', 'profile_background_image_url_https': 'https://abs.twimg.com/images/themes/theme1/bg.png', 'profile_background_tile': False, 'profile_image_url': 'http://pbs.twimg.com/profile_images/858730626484187137/eldHtfXw_normal.jpg', 'profile_image_url_https': 'https://pbs.twimg.com/profile_images/858730626484187137/eldHtfXw_normal.jpg', 'profile_banner_url': 'https://pbs.twimg.com/profile_banners/3066787711/1441982107', 'profile_link_color': '1DA1F2', 'profile_sidebar_border_color': 'C0DEED', 'profile_sidebar_fill_color': 'DDEEF6', 'profile_text_color': '333333', 'profile_use_background_image': True, 'has_extended_profile': False, 'default_profile': True, 'default_profile_image': False, 'following': None, 'follow_request_sent': None, 'notifications': None, 'translator_type': 'none'}, 'geo': None, 'coordinates': None, 'place': None, 'contributors': None, 'is_quote_status': False, 'retweet_count': 934, 'favorite_count': 4005, 'favorited': False, 'retweeted': False, 'possibly_sensitive': False, 'lang': 'en'}, 'is_quote_status': False, 'retweet_count': 934, 'favorite_count': 0, 'favorited': False, 'retweeted': False, 'lang': 'en'}\n",
      "created_at : 2020-03-21 08:42:47\n",
      "id : 1241284107117694981\n",
      "id_str : 1241284107117694981\n",
      "text : RT @rssurjewala: How Ex CJI Ranjan Gogoi’s nomination to Rajya Sabha “crosses the line of separation”?\n",
      "\n",
      "My Op-Ed in Indian Express today-:…\n",
      "truncated : False\n",
      "entities : {'hashtags': [], 'symbols': [], 'user_mentions': [{'screen_name': 'rssurjewala', 'name': 'Randeep Singh Surjewala', 'id': 3066787711, 'id_str': '3066787711', 'indices': [3, 15]}], 'urls': []}\n",
      "metadata : {'iso_language_code': 'en', 'result_type': 'recent'}\n",
      "source : Twitter for Android\n",
      "source_url : http://twitter.com/download/android\n",
      "in_reply_to_status_id : None\n",
      "in_reply_to_status_id_str : None\n",
      "in_reply_to_user_id : None\n",
      "in_reply_to_user_id_str : None\n",
      "in_reply_to_screen_name : None\n",
      "author : User(_api=<tweepy.api.API object at 0x7fae7c0bdf40>, _json={'id': 1025431149265530881, 'id_str': '1025431149265530881', 'name': 'Dushyant Kumar Gupta', 'screen_name': 'DushyantKumarG9', 'location': '', 'description': '', 'url': None, 'entities': {'description': {'urls': []}}, 'protected': False, 'followers_count': 281, 'friends_count': 1514, 'listed_count': 0, 'created_at': 'Fri Aug 03 17:20:12 +0000 2018', 'favourites_count': 19610, 'utc_offset': None, 'time_zone': None, 'geo_enabled': False, 'verified': False, 'statuses_count': 9468, 'lang': None, 'contributors_enabled': False, 'is_translator': False, 'is_translation_enabled': False, 'profile_background_color': 'F5F8FA', 'profile_background_image_url': None, 'profile_background_image_url_https': None, 'profile_background_tile': False, 'profile_image_url': 'http://abs.twimg.com/sticky/default_profile_images/default_profile_normal.png', 'profile_image_url_https': 'https://abs.twimg.com/sticky/default_profile_images/default_profile_normal.png', 'profile_link_color': '1DA1F2', 'profile_sidebar_border_color': 'C0DEED', 'profile_sidebar_fill_color': 'DDEEF6', 'profile_text_color': '333333', 'profile_use_background_image': True, 'has_extended_profile': True, 'default_profile': True, 'default_profile_image': True, 'following': None, 'follow_request_sent': None, 'notifications': None, 'translator_type': 'none'}, id=1025431149265530881, id_str='1025431149265530881', name='Dushyant Kumar Gupta', screen_name='DushyantKumarG9', location='', description='', url=None, entities={'description': {'urls': []}}, protected=False, followers_count=281, friends_count=1514, listed_count=0, created_at=datetime.datetime(2018, 8, 3, 17, 20, 12), favourites_count=19610, utc_offset=None, time_zone=None, geo_enabled=False, verified=False, statuses_count=9468, lang=None, contributors_enabled=False, is_translator=False, is_translation_enabled=False, profile_background_color='F5F8FA', profile_background_image_url=None, profile_background_image_url_https=None, profile_background_tile=False, profile_image_url='http://abs.twimg.com/sticky/default_profile_images/default_profile_normal.png', profile_image_url_https='https://abs.twimg.com/sticky/default_profile_images/default_profile_normal.png', profile_link_color='1DA1F2', profile_sidebar_border_color='C0DEED', profile_sidebar_fill_color='DDEEF6', profile_text_color='333333', profile_use_background_image=True, has_extended_profile=True, default_profile=True, default_profile_image=True, following=False, follow_request_sent=None, notifications=None, translator_type='none')\n",
      "user : User(_api=<tweepy.api.API object at 0x7fae7c0bdf40>, _json={'id': 1025431149265530881, 'id_str': '1025431149265530881', 'name': 'Dushyant Kumar Gupta', 'screen_name': 'DushyantKumarG9', 'location': '', 'description': '', 'url': None, 'entities': {'description': {'urls': []}}, 'protected': False, 'followers_count': 281, 'friends_count': 1514, 'listed_count': 0, 'created_at': 'Fri Aug 03 17:20:12 +0000 2018', 'favourites_count': 19610, 'utc_offset': None, 'time_zone': None, 'geo_enabled': False, 'verified': False, 'statuses_count': 9468, 'lang': None, 'contributors_enabled': False, 'is_translator': False, 'is_translation_enabled': False, 'profile_background_color': 'F5F8FA', 'profile_background_image_url': None, 'profile_background_image_url_https': None, 'profile_background_tile': False, 'profile_image_url': 'http://abs.twimg.com/sticky/default_profile_images/default_profile_normal.png', 'profile_image_url_https': 'https://abs.twimg.com/sticky/default_profile_images/default_profile_normal.png', 'profile_link_color': '1DA1F2', 'profile_sidebar_border_color': 'C0DEED', 'profile_sidebar_fill_color': 'DDEEF6', 'profile_text_color': '333333', 'profile_use_background_image': True, 'has_extended_profile': True, 'default_profile': True, 'default_profile_image': True, 'following': None, 'follow_request_sent': None, 'notifications': None, 'translator_type': 'none'}, id=1025431149265530881, id_str='1025431149265530881', name='Dushyant Kumar Gupta', screen_name='DushyantKumarG9', location='', description='', url=None, entities={'description': {'urls': []}}, protected=False, followers_count=281, friends_count=1514, listed_count=0, created_at=datetime.datetime(2018, 8, 3, 17, 20, 12), favourites_count=19610, utc_offset=None, time_zone=None, geo_enabled=False, verified=False, statuses_count=9468, lang=None, contributors_enabled=False, is_translator=False, is_translation_enabled=False, profile_background_color='F5F8FA', profile_background_image_url=None, profile_background_image_url_https=None, profile_background_tile=False, profile_image_url='http://abs.twimg.com/sticky/default_profile_images/default_profile_normal.png', profile_image_url_https='https://abs.twimg.com/sticky/default_profile_images/default_profile_normal.png', profile_link_color='1DA1F2', profile_sidebar_border_color='C0DEED', profile_sidebar_fill_color='DDEEF6', profile_text_color='333333', profile_use_background_image=True, has_extended_profile=True, default_profile=True, default_profile_image=True, following=False, follow_request_sent=None, notifications=None, translator_type='none')\n",
      "geo : None\n",
      "coordinates : None\n",
      "place : None\n",
      "contributors : None\n",
      "retweeted_status : Status(_api=<tweepy.api.API object at 0x7fae7c0bdf40>, _json={'created_at': 'Fri Mar 20 04:13:56 +0000 2020', 'id': 1240854060409868289, 'id_str': '1240854060409868289', 'text': 'How Ex CJI Ranjan Gogoi’s nomination to Rajya Sabha “crosses the line of separation”?\\n\\nMy Op-Ed in Indian Express t… https://t.co/BH9KeVg8yG', 'truncated': True, 'entities': {'hashtags': [], 'symbols': [], 'user_mentions': [], 'urls': [{'url': 'https://t.co/BH9KeVg8yG', 'expanded_url': 'https://twitter.com/i/web/status/1240854060409868289', 'display_url': 'twitter.com/i/web/status/1…', 'indices': [117, 140]}]}, 'metadata': {'iso_language_code': 'en', 'result_type': 'recent'}, 'source': '<a href=\"http://twitter.com/download/iphone\" rel=\"nofollow\">Twitter for iPhone</a>', 'in_reply_to_status_id': None, 'in_reply_to_status_id_str': None, 'in_reply_to_user_id': None, 'in_reply_to_user_id_str': None, 'in_reply_to_screen_name': None, 'user': {'id': 3066787711, 'id_str': '3066787711', 'name': 'Randeep Singh Surjewala', 'screen_name': 'rssurjewala', 'location': '', 'description': 'Permanent Invitee Member, Congress Working Committee.', 'url': 'https://t.co/9aKrtjMDmn', 'entities': {'url': {'urls': [{'url': 'https://t.co/9aKrtjMDmn', 'expanded_url': 'http://www.surjewala.in/', 'display_url': 'surjewala.in', 'indices': [0, 23]}]}, 'description': {'urls': []}}, 'protected': False, 'followers_count': 1136696, 'friends_count': 126, 'listed_count': 509, 'created_at': 'Sat Mar 07 14:44:38 +0000 2015', 'favourites_count': 1429, 'utc_offset': None, 'time_zone': None, 'geo_enabled': True, 'verified': True, 'statuses_count': 8594, 'lang': None, 'contributors_enabled': False, 'is_translator': False, 'is_translation_enabled': False, 'profile_background_color': 'C0DEED', 'profile_background_image_url': 'http://abs.twimg.com/images/themes/theme1/bg.png', 'profile_background_image_url_https': 'https://abs.twimg.com/images/themes/theme1/bg.png', 'profile_background_tile': False, 'profile_image_url': 'http://pbs.twimg.com/profile_images/858730626484187137/eldHtfXw_normal.jpg', 'profile_image_url_https': 'https://pbs.twimg.com/profile_images/858730626484187137/eldHtfXw_normal.jpg', 'profile_banner_url': 'https://pbs.twimg.com/profile_banners/3066787711/1441982107', 'profile_link_color': '1DA1F2', 'profile_sidebar_border_color': 'C0DEED', 'profile_sidebar_fill_color': 'DDEEF6', 'profile_text_color': '333333', 'profile_use_background_image': True, 'has_extended_profile': False, 'default_profile': True, 'default_profile_image': False, 'following': None, 'follow_request_sent': None, 'notifications': None, 'translator_type': 'none'}, 'geo': None, 'coordinates': None, 'place': None, 'contributors': None, 'is_quote_status': False, 'retweet_count': 934, 'favorite_count': 4005, 'favorited': False, 'retweeted': False, 'possibly_sensitive': False, 'lang': 'en'}, created_at=datetime.datetime(2020, 3, 20, 4, 13, 56), id=1240854060409868289, id_str='1240854060409868289', text='How Ex CJI Ranjan Gogoi’s nomination to Rajya Sabha “crosses the line of separation”?\\n\\nMy Op-Ed in Indian Express t… https://t.co/BH9KeVg8yG', truncated=True, entities={'hashtags': [], 'symbols': [], 'user_mentions': [], 'urls': [{'url': 'https://t.co/BH9KeVg8yG', 'expanded_url': 'https://twitter.com/i/web/status/1240854060409868289', 'display_url': 'twitter.com/i/web/status/1…', 'indices': [117, 140]}]}, metadata={'iso_language_code': 'en', 'result_type': 'recent'}, source='Twitter for iPhone', source_url='http://twitter.com/download/iphone', in_reply_to_status_id=None, in_reply_to_status_id_str=None, in_reply_to_user_id=None, in_reply_to_user_id_str=None, in_reply_to_screen_name=None, author=User(_api=<tweepy.api.API object at 0x7fae7c0bdf40>, _json={'id': 3066787711, 'id_str': '3066787711', 'name': 'Randeep Singh Surjewala', 'screen_name': 'rssurjewala', 'location': '', 'description': 'Permanent Invitee Member, Congress Working Committee.', 'url': 'https://t.co/9aKrtjMDmn', 'entities': {'url': {'urls': [{'url': 'https://t.co/9aKrtjMDmn', 'expanded_url': 'http://www.surjewala.in/', 'display_url': 'surjewala.in', 'indices': [0, 23]}]}, 'description': {'urls': []}}, 'protected': False, 'followers_count': 1136696, 'friends_count': 126, 'listed_count': 509, 'created_at': 'Sat Mar 07 14:44:38 +0000 2015', 'favourites_count': 1429, 'utc_offset': None, 'time_zone': None, 'geo_enabled': True, 'verified': True, 'statuses_count': 8594, 'lang': None, 'contributors_enabled': False, 'is_translator': False, 'is_translation_enabled': False, 'profile_background_color': 'C0DEED', 'profile_background_image_url': 'http://abs.twimg.com/images/themes/theme1/bg.png', 'profile_background_image_url_https': 'https://abs.twimg.com/images/themes/theme1/bg.png', 'profile_background_tile': False, 'profile_image_url': 'http://pbs.twimg.com/profile_images/858730626484187137/eldHtfXw_normal.jpg', 'profile_image_url_https': 'https://pbs.twimg.com/profile_images/858730626484187137/eldHtfXw_normal.jpg', 'profile_banner_url': 'https://pbs.twimg.com/profile_banners/3066787711/1441982107', 'profile_link_color': '1DA1F2', 'profile_sidebar_border_color': 'C0DEED', 'profile_sidebar_fill_color': 'DDEEF6', 'profile_text_color': '333333', 'profile_use_background_image': True, 'has_extended_profile': False, 'default_profile': True, 'default_profile_image': False, 'following': None, 'follow_request_sent': None, 'notifications': None, 'translator_type': 'none'}, id=3066787711, id_str='3066787711', name='Randeep Singh Surjewala', screen_name='rssurjewala', location='', description='Permanent Invitee Member, Congress Working Committee.', url='https://t.co/9aKrtjMDmn', entities={'url': {'urls': [{'url': 'https://t.co/9aKrtjMDmn', 'expanded_url': 'http://www.surjewala.in/', 'display_url': 'surjewala.in', 'indices': [0, 23]}]}, 'description': {'urls': []}}, protected=False, followers_count=1136696, friends_count=126, listed_count=509, created_at=datetime.datetime(2015, 3, 7, 14, 44, 38), favourites_count=1429, utc_offset=None, time_zone=None, geo_enabled=True, verified=True, statuses_count=8594, lang=None, contributors_enabled=False, is_translator=False, is_translation_enabled=False, profile_background_color='C0DEED', profile_background_image_url='http://abs.twimg.com/images/themes/theme1/bg.png', profile_background_image_url_https='https://abs.twimg.com/images/themes/theme1/bg.png', profile_background_tile=False, profile_image_url='http://pbs.twimg.com/profile_images/858730626484187137/eldHtfXw_normal.jpg', profile_image_url_https='https://pbs.twimg.com/profile_images/858730626484187137/eldHtfXw_normal.jpg', profile_banner_url='https://pbs.twimg.com/profile_banners/3066787711/1441982107', profile_link_color='1DA1F2', profile_sidebar_border_color='C0DEED', profile_sidebar_fill_color='DDEEF6', profile_text_color='333333', profile_use_background_image=True, has_extended_profile=False, default_profile=True, default_profile_image=False, following=False, follow_request_sent=None, notifications=None, translator_type='none'), user=User(_api=<tweepy.api.API object at 0x7fae7c0bdf40>, _json={'id': 3066787711, 'id_str': '3066787711', 'name': 'Randeep Singh Surjewala', 'screen_name': 'rssurjewala', 'location': '', 'description': 'Permanent Invitee Member, Congress Working Committee.', 'url': 'https://t.co/9aKrtjMDmn', 'entities': {'url': {'urls': [{'url': 'https://t.co/9aKrtjMDmn', 'expanded_url': 'http://www.surjewala.in/', 'display_url': 'surjewala.in', 'indices': [0, 23]}]}, 'description': {'urls': []}}, 'protected': False, 'followers_count': 1136696, 'friends_count': 126, 'listed_count': 509, 'created_at': 'Sat Mar 07 14:44:38 +0000 2015', 'favourites_count': 1429, 'utc_offset': None, 'time_zone': None, 'geo_enabled': True, 'verified': True, 'statuses_count': 8594, 'lang': None, 'contributors_enabled': False, 'is_translator': False, 'is_translation_enabled': False, 'profile_background_color': 'C0DEED', 'profile_background_image_url': 'http://abs.twimg.com/images/themes/theme1/bg.png', 'profile_background_image_url_https': 'https://abs.twimg.com/images/themes/theme1/bg.png', 'profile_background_tile': False, 'profile_image_url': 'http://pbs.twimg.com/profile_images/858730626484187137/eldHtfXw_normal.jpg', 'profile_image_url_https': 'https://pbs.twimg.com/profile_images/858730626484187137/eldHtfXw_normal.jpg', 'profile_banner_url': 'https://pbs.twimg.com/profile_banners/3066787711/1441982107', 'profile_link_color': '1DA1F2', 'profile_sidebar_border_color': 'C0DEED', 'profile_sidebar_fill_color': 'DDEEF6', 'profile_text_color': '333333', 'profile_use_background_image': True, 'has_extended_profile': False, 'default_profile': True, 'default_profile_image': False, 'following': None, 'follow_request_sent': None, 'notifications': None, 'translator_type': 'none'}, id=3066787711, id_str='3066787711', name='Randeep Singh Surjewala', screen_name='rssurjewala', location='', description='Permanent Invitee Member, Congress Working Committee.', url='https://t.co/9aKrtjMDmn', entities={'url': {'urls': [{'url': 'https://t.co/9aKrtjMDmn', 'expanded_url': 'http://www.surjewala.in/', 'display_url': 'surjewala.in', 'indices': [0, 23]}]}, 'description': {'urls': []}}, protected=False, followers_count=1136696, friends_count=126, listed_count=509, created_at=datetime.datetime(2015, 3, 7, 14, 44, 38), favourites_count=1429, utc_offset=None, time_zone=None, geo_enabled=True, verified=True, statuses_count=8594, lang=None, contributors_enabled=False, is_translator=False, is_translation_enabled=False, profile_background_color='C0DEED', profile_background_image_url='http://abs.twimg.com/images/themes/theme1/bg.png', profile_background_image_url_https='https://abs.twimg.com/images/themes/theme1/bg.png', profile_background_tile=False, profile_image_url='http://pbs.twimg.com/profile_images/858730626484187137/eldHtfXw_normal.jpg', profile_image_url_https='https://pbs.twimg.com/profile_images/858730626484187137/eldHtfXw_normal.jpg', profile_banner_url='https://pbs.twimg.com/profile_banners/3066787711/1441982107', profile_link_color='1DA1F2', profile_sidebar_border_color='C0DEED', profile_sidebar_fill_color='DDEEF6', profile_text_color='333333', profile_use_background_image=True, has_extended_profile=False, default_profile=True, default_profile_image=False, following=False, follow_request_sent=None, notifications=None, translator_type='none'), geo=None, coordinates=None, place=None, contributors=None, is_quote_status=False, retweet_count=934, favorite_count=4005, favorited=False, retweeted=False, possibly_sensitive=False, lang='en')\n",
      "is_quote_status : False\n",
      "retweet_count : 934\n",
      "favorite_count : 0\n",
      "favorited : False\n",
      "retweeted : False\n",
      "lang : en\n",
      "User model:\n",
      "_api : <tweepy.api.API object at 0x7fae7c0bdf40>\n",
      "_json : {'id': 1025431149265530881, 'id_str': '1025431149265530881', 'name': 'Dushyant Kumar Gupta', 'screen_name': 'DushyantKumarG9', 'location': '', 'description': '', 'url': None, 'entities': {'description': {'urls': []}}, 'protected': False, 'followers_count': 281, 'friends_count': 1514, 'listed_count': 0, 'created_at': 'Fri Aug 03 17:20:12 +0000 2018', 'favourites_count': 19610, 'utc_offset': None, 'time_zone': None, 'geo_enabled': False, 'verified': False, 'statuses_count': 9468, 'lang': None, 'contributors_enabled': False, 'is_translator': False, 'is_translation_enabled': False, 'profile_background_color': 'F5F8FA', 'profile_background_image_url': None, 'profile_background_image_url_https': None, 'profile_background_tile': False, 'profile_image_url': 'http://abs.twimg.com/sticky/default_profile_images/default_profile_normal.png', 'profile_image_url_https': 'https://abs.twimg.com/sticky/default_profile_images/default_profile_normal.png', 'profile_link_color': '1DA1F2', 'profile_sidebar_border_color': 'C0DEED', 'profile_sidebar_fill_color': 'DDEEF6', 'profile_text_color': '333333', 'profile_use_background_image': True, 'has_extended_profile': True, 'default_profile': True, 'default_profile_image': True, 'following': None, 'follow_request_sent': None, 'notifications': None, 'translator_type': 'none'}\n",
      "id : 1025431149265530881\n",
      "id_str : 1025431149265530881\n",
      "name : Dushyant Kumar Gupta\n",
      "screen_name : DushyantKumarG9\n",
      "location : \n",
      "description : \n",
      "url : None\n",
      "entities : {'description': {'urls': []}}\n",
      "protected : False\n",
      "followers_count : 281\n",
      "friends_count : 1514\n",
      "listed_count : 0\n",
      "created_at : 2018-08-03 17:20:12\n",
      "favourites_count : 19610\n",
      "utc_offset : None\n",
      "time_zone : None\n",
      "geo_enabled : False\n",
      "verified : False\n",
      "statuses_count : 9468\n",
      "lang : None\n",
      "contributors_enabled : False\n",
      "is_translator : False\n",
      "is_translation_enabled : False\n",
      "profile_background_color : F5F8FA\n",
      "profile_background_image_url : None\n",
      "profile_background_image_url_https : None\n",
      "profile_background_tile : False\n",
      "profile_image_url : http://abs.twimg.com/sticky/default_profile_images/default_profile_normal.png\n",
      "profile_image_url_https : https://abs.twimg.com/sticky/default_profile_images/default_profile_normal.png\n",
      "profile_link_color : 1DA1F2\n",
      "profile_sidebar_border_color : C0DEED\n",
      "profile_sidebar_fill_color : DDEEF6\n",
      "profile_text_color : 333333\n",
      "profile_use_background_image : True\n",
      "has_extended_profile : True\n",
      "default_profile : True\n",
      "default_profile_image : True\n",
      "following : False\n",
      "follow_request_sent : None\n",
      "notifications : None\n",
      "translator_type : none\n"
     ]
    }
   ],
   "source": [
    "for tweet in tweepy.Cursor(api.search, q='Google').items(1):\n",
    "    for key, value in tweet.__dict__.items():\n",
    "        print(key, ':', value)\n",
    "    print(\"User model:\")\n",
    "    for key, value in tweet.user.__dict__.items():\n",
    "        print(key, ':', value)"
   ]
  }
 ],
 "metadata": {
  "celltoolbar": "Initialization Cell",
  "kernelspec": {
   "display_name": "vTweetEnv",
   "language": "python",
   "name": "vtweetenv"
  },
  "language_info": {
   "codemirror_mode": {
    "name": "ipython",
    "version": 3
   },
   "file_extension": ".py",
   "mimetype": "text/x-python",
   "name": "python",
   "nbconvert_exporter": "python",
   "pygments_lexer": "ipython3",
   "version": "3.8.1"
  },
  "latex_envs": {
   "LaTeX_envs_menu_present": true,
   "autoclose": true,
   "autocomplete": true,
   "bibliofile": "biblio.bib",
   "cite_by": "apalike",
   "current_citInitial": 1,
   "eqLabelWithNumbers": true,
   "eqNumInitial": 1,
   "hotkeys": {
    "equation": "Ctrl-E",
    "itemize": "Ctrl-I"
   },
   "labels_anchors": false,
   "latex_user_defs": false,
   "report_style_numbering": false,
   "user_envs_cfg": false
  }
 },
 "nbformat": 4,
 "nbformat_minor": 4
}
