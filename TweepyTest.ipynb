{
 "cells": [
  {
   "cell_type": "code",
   "execution_count": 51,
   "metadata": {},
   "outputs": [],
   "source": [
    "import tweepy\n",
    "from decouple import config"
   ]
  },
  {
   "cell_type": "markdown",
   "metadata": {},
   "source": [
    "## Setup API Authentication"
   ]
  },
  {
   "cell_type": "code",
   "execution_count": 3,
   "metadata": {},
   "outputs": [],
   "source": [
    "auth = tweepy.OAuthHandler(config('CONSUMER_KEY'), config('CONSUMER_SECRET'))\n",
    "api = tweepy.API(auth)"
   ]
  },
  {
   "cell_type": "markdown",
   "metadata": {},
   "source": [
    "## Search without any parameters"
   ]
  },
  {
   "cell_type": "code",
   "execution_count": null,
   "metadata": {},
   "outputs": [],
   "source": [
    "for tweet in tweepy.Cursor(api.search, q='Google').items(1):\n",
    "    print(tweet)"
   ]
  },
  {
   "cell_type": "markdown",
   "metadata": {},
   "source": [
    "## Fields returned in response"
   ]
  },
  {
   "cell_type": "code",
   "execution_count": 7,
   "metadata": {},
   "outputs": [
    {
     "name": "stdout",
     "output_type": "stream",
     "text": [
      "created_at : Thu Mar 19 18:07:27 +0000 2020\n",
      "id : 1240701431927037952\n",
      "id_str : 1240701431927037952\n",
      "text : sedikit drama nyasar bikin gw muter2 di sekitaran nganjuk dan mutusin buat tanya orang sana buat ke kecamatan pagu.… https://t.co/6cONgCLOGp\n",
      "truncated : True\n",
      "entities : {'hashtags': [], 'symbols': [], 'user_mentions': [], 'urls': [{'url': 'https://t.co/6cONgCLOGp', 'expanded_url': 'https://twitter.com/i/web/status/1240701431927037952', 'display_url': 'twitter.com/i/web/status/1…', 'indices': [117, 140]}]}\n",
      "metadata : {'iso_language_code': 'in', 'result_type': 'recent'}\n",
      "source : <a href=\"https://mobile.twitter.com\" rel=\"nofollow\">Twitter Web App</a>\n",
      "in_reply_to_status_id : 1240700900823281671\n",
      "in_reply_to_status_id_str : 1240700900823281671\n",
      "in_reply_to_user_id : 94311157\n",
      "in_reply_to_user_id_str : 94311157\n",
      "in_reply_to_screen_name : azzzz16\n",
      "user : {'id': 94311157, 'id_str': '94311157', 'name': 'Azzam', 'screen_name': 'azzzz16', 'location': 'Kediri, Jawa Timur', 'description': 'https://t.co/nshmdTokhq', 'url': None, 'entities': {'description': {'urls': [{'url': 'https://t.co/nshmdTokhq', 'expanded_url': 'https://open.spotify.com/playlist/4mqdTT8HxcfAHYpuu0yFSe?si=hK28-jneTyWXgDW3k0bpVQ', 'display_url': 'open.spotify.com/playlist/4mqdT…', 'indices': [0, 23]}]}}, 'protected': False, 'followers_count': 327, 'friends_count': 120, 'listed_count': 0, 'created_at': 'Thu Dec 03 11:40:26 +0000 2009', 'favourites_count': 147, 'utc_offset': None, 'time_zone': None, 'geo_enabled': True, 'verified': False, 'statuses_count': 6721, 'lang': None, 'contributors_enabled': False, 'is_translator': False, 'is_translation_enabled': False, 'profile_background_color': '080508', 'profile_background_image_url': 'http://abs.twimg.com/images/themes/theme5/bg.gif', 'profile_background_image_url_https': 'https://abs.twimg.com/images/themes/theme5/bg.gif', 'profile_background_tile': True, 'profile_image_url': 'http://pbs.twimg.com/profile_images/1207828897498222592/rb0M6w5Z_normal.jpg', 'profile_image_url_https': 'https://pbs.twimg.com/profile_images/1207828897498222592/rb0M6w5Z_normal.jpg', 'profile_banner_url': 'https://pbs.twimg.com/profile_banners/94311157/1569438284', 'profile_link_color': 'FAB81E', 'profile_sidebar_border_color': '000000', 'profile_sidebar_fill_color': 'D274DB', 'profile_text_color': '15B9EB', 'profile_use_background_image': True, 'has_extended_profile': False, 'default_profile': False, 'default_profile_image': False, 'following': None, 'follow_request_sent': None, 'notifications': None, 'translator_type': 'none'}\n",
      "geo : None\n",
      "coordinates : None\n",
      "place : None\n",
      "contributors : None\n",
      "is_quote_status : False\n",
      "retweet_count : 0\n",
      "favorite_count : 0\n",
      "favorited : False\n",
      "retweeted : False\n",
      "lang : in\n"
     ]
    }
   ],
   "source": [
    "for tweet in tweepy.Cursor(api.search, q='Google').items(1):\n",
    "    json_dict = tweet._json\n",
    "    for key in json_dict.keys():\n",
    "        print(key, \":\", json_dict[str(key)])"
   ]
  },
  {
   "cell_type": "markdown",
   "metadata": {},
   "source": [
    "## GET trends/place"
   ]
  },
  {
   "cell_type": "markdown",
   "metadata": {},
   "source": [
    "- ### Retrieve WOEID"
   ]
  },
  {
   "cell_type": "code",
   "execution_count": 12,
   "metadata": {},
   "outputs": [
    {
     "name": "stdout",
     "output_type": "stream",
     "text": [
      "{'name': 'Ahmedabad', 'placeType': {'code': 7, 'name': 'Town'}, 'url': 'http://where.yahooapis.com/v1/place/2295402', 'parentid': 23424848, 'country': 'India', 'woeid': 2295402, 'countryCode': 'IN'}\n",
      "WOEID = 2295402\n"
     ]
    }
   ],
   "source": [
    "AHD_LAT = 23.022505\n",
    "AHD_LONG = 72.571365\n",
    "\n",
    "# Returns a single element list\n",
    "ahd_loc_info = api.trends_closest(AHD_LAT, AHD_LONG)\n",
    "print(ahd_loc_info[0])\n",
    "ahd_woeid = ahd_loc_info[0]['woeid']  # Single element is a dict\n",
    "print('WOEID =',ahd_woeid)"
   ]
  },
  {
   "cell_type": "markdown",
   "metadata": {},
   "source": [
    "- ### Retrieve trends given the WOEID"
   ]
  },
  {
   "cell_type": "code",
   "execution_count": 14,
   "metadata": {},
   "outputs": [
    {
     "name": "stdout",
     "output_type": "stream",
     "text": [
      "#JantaCurfew\n",
      "#Miracles_Of_TrueWorship\n",
      "#NarendraModi\n",
      "#जनता_कर्फ्यू\n",
      "#मोदीजी_बकवास_बंद_करो\n",
      "Prime Minister\n",
      "Thali\n",
      "Shehla\n",
      "resolve and restraint\n",
      "Balcony\n",
      "Trial\n",
      "Tehseen\n",
      "Sankalp\n",
      "Ghanti\n",
      "Task Force\n",
      "#BhulaDungaOnMarch24\n",
      "#AskRobbo\n",
      "#StopBhashanShowAction\n",
      "#modistrikeoncorona\n",
      "#ModiJi_Thankyou\n",
      "#IndiaComeTogether\n",
      "#22march\n",
      "#5YearsWithRMixtape\n",
      "#ControlTomorrow\n",
      "#LibtardsKillNirbhayas\n",
      "#curfew\n",
      "#TwoYearsOfBepannaah\n",
      "#PersonaNo3GlobalAlbum\n",
      "#LockDownMumbaiPune\n",
      "#ModiAddressesNation\n",
      "#LoveYouMoreLay\n",
      "#SUHOARCHIVE20\n",
      "#AskJinks\n",
      "#TVSEuroGrip\n",
      "#askppfas\n",
      "#GiveBackKHKT\n"
     ]
    }
   ],
   "source": [
    "ahd_trends = api.trends_place(id=str(ahd_woeid)) # Returns a single element list\n",
    "ahd_trends = ahd_trends[0]['trends']  # Retrieve only the trends\n",
    "for trend in ahd_trends:\n",
    "    print(trend['name'])"
   ]
  },
  {
   "cell_type": "markdown",
   "metadata": {},
   "source": [
    "## Filter search results by location"
   ]
  },
  {
   "cell_type": "code",
   "execution_count": 72,
   "metadata": {},
   "outputs": [
    {
     "name": "stdout",
     "output_type": "stream",
     "text": [
      "Drugs and Narcotic substances are traded freely but trying to block #corona #covid @ Bangalore, India https://t.co/6THf7qB4Nu\n",
      "Bengaluru \n",
      "\n",
      "Coffee ,contemplation and definitely no corona!!                                            P.c raginisingh.789 @ B… https://t.co/gJdjyeDoym\n",
      "Bengaluru \n",
      "\n",
      "#stayhealthy #staysafe #corona \n",
      "Wear gloves and cover face, people might think it's infection but get yourself sati… https://t.co/suSwLLcdEI\n",
      "Bengaluru \n",
      "\n",
      "#corona #brakethechain #prayerchangesthings @ Bangalore, India https://t.co/0jnxfkzXiG\n",
      "Bengaluru \n",
      "\n",
      "Day 3 of self-isolation...Note to self : Learn to cook your favourite dish youself!!! .\n",
      ".\n",
      "#missionaccomplished… https://t.co/FC2VTiah8S\n",
      "Bengaluru \n",
      "\n",
      "Due to Corona Effect, even Metro is empty in the peak hours as well\n",
      "#coronaeffect #bangaloreshutdown #workfromhome… https://t.co/wbd3a4dZVy\n",
      "Bengaluru \n",
      "\n",
      "TRAILER - How to get Gigs 😉\n",
      "Subscribe to my YouTube Channel and watch full video. \n",
      ".\n",
      ".\n",
      "Guess Who did I call ? \n",
      "And… https://t.co/FDGzAdS7BM\n",
      "Bengaluru \n",
      "\n",
      "That's the current prevalence of blindness in India.\n",
      "It's also fatality rate with corona virus . ( It's coming down… https://t.co/myavI5GrrD\n",
      "Bengaluru \n",
      "\n",
      "This virus gonna hit us from so many ways but the people who depend on daily income are gonna get hit the most.Plea… https://t.co/EwdMDgODFm\n",
      "Bangalore \n",
      "\n",
      "ಹೊಸ ತರದ ಸ್ವಾಗತ \n",
      "Corona ದಯೆ ಇಂದ\n",
      ".\n",
      ".\n",
      ".\n",
      "#prilaga #funnyposts #funnyvideos #kannadafilm #kannadasongs #instashoot… https://t.co/s99o0ZjDJp\n",
      "Bengaluru \n",
      "\n"
     ]
    }
   ],
   "source": [
    "SF_LAT = 37.781157\n",
    "SF_LONG = -122.398720\n",
    "\n",
    "NY_LAT = 40.712776\n",
    "NY_LONG = -74.005974\n",
    "\n",
    "BENG_LAT = 12.971599\n",
    "BENG_LONG = 77.594566\n",
    "\n",
    "# May not work for Gujarati cities. Not enough people posting with location info\n",
    "\n",
    "geocode = str(BENG_LAT) + ',' + str(BENG_LONG) + ',1mi'\n",
    "\n",
    "for tweet in tweepy.Cursor(api.search, q='Corona', geocode=geocode).items(10):\n",
    "    json_dict = tweet._json\n",
    "    print(json_dict['text'])\n",
    "    try:\n",
    "        print(json_dict['place']['name'], '\\n')\n",
    "    except TypeError:\n",
    "        print('No Location\\n')"
   ]
  },
  {
   "cell_type": "markdown",
   "metadata": {},
   "source": [
    "## Check objects returned in Tweepy classes"
   ]
  },
  {
   "cell_type": "code",
   "execution_count": null,
   "metadata": {},
   "outputs": [],
   "source": [
    "auth = tweepy.OAuthHandler(config('CONSUMER_KEY'), config('CONSUMER_SECRET'))\n",
    "api = tweepy.API(auth)\n",
    "for tweet in tweepy.Cursor(api.search, q='Google').items(1):\n",
    "    for key, value in tweet.__dict__.items():\n",
    "        print(key, ':', value)\n",
    "    print(\"User model:\")\n",
    "    for key, value in tweet.user.__dict__.items():\n",
    "        print(key, ':', value)"
   ]
  }
 ],
 "metadata": {
  "kernelspec": {
   "display_name": "vTweetEnv",
   "language": "python",
   "name": "vtweetenv"
  },
  "language_info": {
   "codemirror_mode": {
    "name": "ipython",
    "version": 3
   },
   "file_extension": ".py",
   "mimetype": "text/x-python",
   "name": "python",
   "nbconvert_exporter": "python",
   "pygments_lexer": "ipython3",
   "version": "3.8.1"
  }
 },
 "nbformat": 4,
 "nbformat_minor": 4
}